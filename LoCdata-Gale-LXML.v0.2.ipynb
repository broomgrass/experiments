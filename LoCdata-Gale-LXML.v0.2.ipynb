{
 "cells": [
  {
   "cell_type": "markdown",
   "metadata": {},
   "source": [
    "# Skimming LCSH data from Gale files\n",
    "\n",
    "The goal of this notebook is to figure out a quick way to skim the thousands of ECCO and NCCO file metadata from Gale-Cengage, discover if they have a relevant Library of Congress Subject Heading, and, if the file does have a relevant LCSH, add it to a list.\n",
    "\n",
    "The terms I am looking for include `'travel', 'discov', 'explor', 'voyage', 'guide', 'antiquit'`. These are the same terms that I used to search the HTRC.\n",
    "\n",
    "In a past notebook, I struggled with using xml, in part because it was very slow to open an xml file, read it in, and then see if what I wanted was there. This [lxml method from IBM](https://www.ibm.com/developerworks/xml/library/x-hiperfparse/), however, was helpful in developing something quicker."
   ]
  },
  {
   "cell_type": "code",
   "execution_count": 1,
   "metadata": {
    "collapsed": true
   },
   "outputs": [],
   "source": [
    "from lxml import etree\n",
    "import pandas as pd\n",
    "import glob\n",
    "from bs4 import BeautifulSoup"
   ]
  },
  {
   "cell_type": "code",
   "execution_count": 2,
   "metadata": {
    "collapsed": true
   },
   "outputs": [],
   "source": [
    "import lxml"
   ]
  },
  {
   "cell_type": "code",
   "execution_count": 3,
   "metadata": {},
   "outputs": [
    {
     "name": "stdout",
     "output_type": "stream",
     "text": [
      "Westminster (London, England)\n",
      "History\n",
      "Early works to 1800\n",
      "London (England)\n",
      "History\n",
      "Early works to 1800\n"
     ]
    }
   ],
   "source": [
    "context = etree.iterparse('files/sampleECCOtxt.xml', events=('end',), tag='locSubject')\n",
    "\n",
    "loclist = []\n",
    "for event, elem in context:\n",
    "    print(elem.text)\n",
    "    loclist.append(elem.text)\n",
    "# Let's just try printing these in a few different ways"
   ]
  },
  {
   "cell_type": "code",
   "execution_count": 4,
   "metadata": {},
   "outputs": [
    {
     "data": {
      "text/plain": [
       "'Westminster (London, England); History; Early works to 1800; London (England); History; Early works to 1800'"
      ]
     },
     "execution_count": 4,
     "metadata": {},
     "output_type": "execute_result"
    }
   ],
   "source": [
    "string = '; '.join(loclist)\n",
    "string"
   ]
  },
  {
   "cell_type": "code",
   "execution_count": 5,
   "metadata": {
    "collapsed": true
   },
   "outputs": [],
   "source": [
    "for event, elem in context:\n",
    "    print(elem.text)\n",
    "    # Um, unsure why this isn't working, when it works above?"
   ]
  },
  {
   "cell_type": "code",
   "execution_count": 6,
   "metadata": {},
   "outputs": [
    {
     "data": {
      "text/plain": [
       "['Westminster (London, England)',\n",
       " 'History',\n",
       " 'Early works to 1800',\n",
       " 'London (England)',\n",
       " 'History',\n",
       " 'Early works to 1800']"
      ]
     },
     "execution_count": 6,
     "metadata": {},
     "output_type": "execute_result"
    }
   ],
   "source": [
    "loclist"
   ]
  },
  {
   "cell_type": "markdown",
   "metadata": {},
   "source": [
    "I should also not have to worry if the tag does not exist; as can be seen below, it won't break or throw an derror - the result will just be empy. So, I should still be able to apply my general method of something like `if word is in termlist`."
   ]
  },
  {
   "cell_type": "code",
   "execution_count": 7,
   "metadata": {
    "collapsed": true
   },
   "outputs": [],
   "source": [
    "contextnone = etree.iterparse('files/sampleECCOtxt.xml', events=('end',), tag='holdings2')"
   ]
  },
  {
   "cell_type": "code",
   "execution_count": 8,
   "metadata": {},
   "outputs": [
    {
     "data": {
      "text/plain": [
       "[]"
      ]
     },
     "execution_count": 8,
     "metadata": {},
     "output_type": "execute_result"
    }
   ],
   "source": [
    "emptylist = []\n",
    "for event, elem in contextnone:\n",
    "    emptylist.append(elem.text)\n",
    "emptylist"
   ]
  },
  {
   "cell_type": "markdown",
   "metadata": {},
   "source": [
    "### Running over multiple files\n",
    " \n",
    "Let's try run this over a few files to see what happens. The main chunk of code below was originally running BeautifulSoup, which took way too long; hopefully this will move a bit more quickly!\n",
    "\n",
    "I will also need a list of metadata tags to iterate through, in order to grab the metadata for the files that I want. Let's do that first.\n",
    "\n",
    "I also have to remember that although this chunk of code should work for ECCO files, I may have to adjust it slightly to work with NCCO files, especially since lxml tags are sensitive to capital letters (or at least, they are they are used above)."
   ]
  },
  {
   "cell_type": "code",
   "execution_count": 9,
   "metadata": {
    "collapsed": true
   },
   "outputs": [],
   "source": [
    "taglist = ['documentID', 'ESTCID', 'pubDate','ESTCID',\n",
    "           'language','module','locSubject','notes',\n",
    "           'fullTitle','displayTitle','currentVolume', \n",
    "           'totalVolumes', 'imprintPublisher','imprintFull',\n",
    "           'imprintCity', 'publicationPlace']"
   ]
  },
  {
   "cell_type": "code",
   "execution_count": 11,
   "metadata": {
    "collapsed": true
   },
   "outputs": [],
   "source": [
    "# set up a dict to hold all the strings of all these elements\n",
    "elementdict = {}\n",
    "\n",
    "for xmltag in taglist:\n",
    "    elementlist = []\n",
    "    context = etree.iterparse('files/sampleECCOtxt.xml', events=('end',), tag=xmltag)\n",
    "    for event, elem in context:\n",
    "        elementlist.append(elem.text)\n",
    "    elementdict[xmltag] = ', '.join(elementlist)\n",
    "\n",
    "    "
   ]
  },
  {
   "cell_type": "code",
   "execution_count": 12,
   "metadata": {},
   "outputs": [
    {
     "data": {
      "text/plain": [
       "{'ESTCID': 'T228085',\n",
       " 'currentVolume': 'Volume 2',\n",
       " 'displayTitle': 'A new and compleat survey of London. In ten parts. I. All the publick transactions and memorable events, that have happened to the citizens, from ...',\n",
       " 'documentID': '1299400102',\n",
       " 'fullTitle': 'A new and compleat survey of London. In ten parts. I. All the publick transactions and memorable events, that have happened to the citizens, from its foundation, to the year 1742. II. A particular description of the thirteen wards on the East of Walbrook. III. Of the twelve wards on the West of Walbrook. IV. A political account of London; parallels between this and the most celebrated cities of antiquity, as well as the modern great cities of Europe, Asia and Africa. V. An historical account of the city governments, ecclesiastical, civil and military. VI. A full account of the great and extensive commerce of the city; and of the several incorporations of the arts and mysteries of the citizens. VII. Of the present state of learning in this city. VIII. History and antiquities of Westminster; its government, ecclesiastical and civil. IX. Of the several parishes and liberties in the county of Middlesex, within the bill of mortality. X. Of the borough of Southwark, and places contiguous in the county of Surry. In two volumes. By a citizen, and native of London.',\n",
       " 'imprintCity': 'London',\n",
       " 'imprintFull': 'London : printed for S. Lyne, at the Globe in Newgate-street; and J. Ilive, in Aldersgate-street, MDCCXLII. [1742]',\n",
       " 'imprintPublisher': 'printed for S. Lyne, at the Globe in Newgate-street; and J. Ilive, in Aldersgate-street',\n",
       " 'language': 'English',\n",
       " 'locSubject': 'Westminster (London, England), History, Early works to 1800, London (England), History, Early works to 1800',\n",
       " 'module': 'History and Geography',\n",
       " 'notes': 'In fact in two volumes; volume 2 has a separate register, but continuous pagination and the imprint reads: \"London: printed for S. Lyne; and J. Ilive, 1742\".  With an index.',\n",
       " 'pubDate': '17420101',\n",
       " 'publicationPlace': 'London',\n",
       " 'totalVolumes': '2'}"
      ]
     },
     "execution_count": 12,
     "metadata": {},
     "output_type": "execute_result"
    }
   ],
   "source": [
    "#aaaand, let's see if it worked\n",
    "elementdict"
   ]
  },
  {
   "cell_type": "markdown",
   "metadata": {},
   "source": [
    "Great! And if we set up a file list and try to do two files, one with travel, one without, let's see if we can get that working..."
   ]
  },
  {
   "cell_type": "code",
   "execution_count": 13,
   "metadata": {
    "collapsed": true
   },
   "outputs": [],
   "source": [
    "twofiles = ['files/sampleECCOtextTravel.xml', 'files/sampleECCOtxt.xml']"
   ]
  },
  {
   "cell_type": "code",
   "execution_count": 14,
   "metadata": {
    "collapsed": true
   },
   "outputs": [],
   "source": [
    "# first, we only want the files that have certain LCSH\n",
    "# so let's set up a list of tags\n",
    "termlist = ['travel', 'discov', 'explor', 'voyage', 'guide', 'antiquit']\n",
    "\n",
    "teststring = 'Italy, Description and travel, Early works to 1800'\n"
   ]
  },
  {
   "cell_type": "code",
   "execution_count": 15,
   "metadata": {},
   "outputs": [
    {
     "name": "stdout",
     "output_type": "stream",
     "text": [
      "yes\n"
     ]
    }
   ],
   "source": [
    "# just to make sure that my if statement will work:\n",
    "if any(x in teststring for x in termlist):\n",
    "    print('yes')\n",
    "else:\n",
    "    print('no')"
   ]
  },
  {
   "cell_type": "code",
   "execution_count": 17,
   "metadata": {},
   "outputs": [
    {
     "name": "stdout",
     "output_type": "stream",
     "text": [
      "Italy, Description and travel, Early works to 1800\n",
      "yes\n",
      "Westminster (London, England), History, Early works to 1800, London (England), History, Early works to 1800\n",
      "no\n"
     ]
    }
   ],
   "source": [
    "# this list of dicts will hold all a dict that holds\n",
    "# the metadata for each relevant file\n",
    "listofdicts = []\n",
    "\n",
    "for file in twofiles:\n",
    "    testparse = etree.iterparse(file, events=('end',), tag = 'locSubject')\n",
    "    testlist = []\n",
    "    for event, elem in testparse:\n",
    "        testlist.append(elem.text)\n",
    "    # reclaim the memory at the end of each loop -\n",
    "    # clears unneeded node references\n",
    "    elem.clear()\n",
    "    while elem.getprevious() is not None:\n",
    "        del elem.getparent()[0]\n",
    "        \n",
    "    teststring = ', '.join(testlist) \n",
    "    print(teststring)\n",
    "        \n",
    "    if any(lcsh in teststring for lcsh in termlist):\n",
    "        print('yes')\n",
    "        \n",
    "        # if that is true, we want the metadata\n",
    "        # so let's make a dict to hold it\n",
    "        # this dict will be reset with every file loop\n",
    "        filedict = {}\n",
    "        \n",
    "        for xmltag in taglist:\n",
    "            # make an empty list to hold what is in each tag, \n",
    "            # which will be written to our dict in a few steps\n",
    "            elementlist = []\n",
    "            \n",
    "            context = etree.iterparse(file, events=('end',), tag=xmltag)\n",
    "            for event, elem in context:\n",
    "                elementlist.append(elem.text)\n",
    "            \n",
    "            # the below should make things faster - I think? \n",
    "            # reclaim the memory at the end of each loop -\n",
    "            # clears unneeded node references\n",
    "            elem.clear()\n",
    "            while elem.getprevious() is not None:\n",
    "                del elem.getparent()[0]\n",
    "            # assign to the dictionary\n",
    "            filedict[xmltag] = ', '.join(elementlist)\n",
    "            \n",
    "        # after it has looped through all the xmltags, \n",
    "        # add the filedict to list of dicts \n",
    "        listofdicts.append(filedict)\n",
    "    else:\n",
    "        print('no')\n",
    "            "
   ]
  },
  {
   "cell_type": "code",
   "execution_count": 18,
   "metadata": {},
   "outputs": [
    {
     "data": {
      "text/plain": [
       "[{'ESTCID': 'T110070',\n",
       "  'currentVolume': '0',\n",
       "  'displayTitle': \"The travels of the learned Father Montfaucon from Paris thro' Italy. Containing I. An Account of many Antiquities at Vienne, Arles, Nismes, and ...\",\n",
       "  'documentID': '0084800600',\n",
       "  'fullTitle': \"The travels of the learned Father Montfaucon from Paris thro' Italy. Containing I. An Account of many Antiquities at Vienne, Arles, Nismes, and Marseilles in France. II. The Delights of Italy, viz. Libraries, Manuscripts, Statues, Paintings, Monuments, Tombs, Inscriptions, Epitaphs, Temples, Monasteries, Churches, Palaces, and other Curious Structures. III. Collections of Rarities, wonderful Subterraneous Passages and Burial-Places, old Roads, Gates, &c. with the Description of a Noble Monument found under Ground at Rome Anno M.DCC.II. Made English from the Paris edition. Adorn'd with Cuts.\",\n",
       "  'imprintCity': 'London',\n",
       "  'imprintFull': \"London : printed by D. L. for E. Curll at the Dial and Bible against St. Dunstan's-Church, E. Sanger at the Post-House, R. Gosling at the Mitre, all in Fleetstreet, and W. Lewis next Tom's Coffee-House in Covent Garden, M.DCC.XII. [1712].\",\n",
       "  'imprintPublisher': \"printed by D. L. for E. Curll at the Dial and Bible against St. Dunstan's-Church, E. Sanger at the Post-House, R. Gosling at the Mitre, all in Fleetstreet, and W. Lewis next Tom's Coffee-House in Covent Garden\",\n",
       "  'language': 'English',\n",
       "  'locSubject': 'Italy, Description and travel, Early works to 1800',\n",
       "  'module': 'History and Geography',\n",
       "  'notes': 'With an index.  In this issue the imprint date on the titlepage is in Roman numerals.  Price from imprint: Price 6 s.',\n",
       "  'pubDate': '17120101',\n",
       "  'publicationPlace': 'London',\n",
       "  'totalVolumes': '0'}]"
      ]
     },
     "execution_count": 18,
     "metadata": {},
     "output_type": "execute_result"
    }
   ],
   "source": [
    "listofdicts"
   ]
  },
  {
   "cell_type": "code",
   "execution_count": 19,
   "metadata": {},
   "outputs": [],
   "source": [
    "dictsdf = pd.DataFrame(listofdicts)"
   ]
  },
  {
   "cell_type": "code",
   "execution_count": 20,
   "metadata": {},
   "outputs": [
    {
     "data": {
      "text/html": [
       "<div>\n",
       "<style>\n",
       "    .dataframe thead tr:only-child th {\n",
       "        text-align: right;\n",
       "    }\n",
       "\n",
       "    .dataframe thead th {\n",
       "        text-align: left;\n",
       "    }\n",
       "\n",
       "    .dataframe tbody tr th {\n",
       "        vertical-align: top;\n",
       "    }\n",
       "</style>\n",
       "<table border=\"1\" class=\"dataframe\">\n",
       "  <thead>\n",
       "    <tr style=\"text-align: right;\">\n",
       "      <th></th>\n",
       "      <th>ESTCID</th>\n",
       "      <th>currentVolume</th>\n",
       "      <th>displayTitle</th>\n",
       "      <th>documentID</th>\n",
       "      <th>fullTitle</th>\n",
       "      <th>imprintCity</th>\n",
       "      <th>imprintFull</th>\n",
       "      <th>imprintPublisher</th>\n",
       "      <th>language</th>\n",
       "      <th>locSubject</th>\n",
       "      <th>module</th>\n",
       "      <th>notes</th>\n",
       "      <th>pubDate</th>\n",
       "      <th>publicationPlace</th>\n",
       "      <th>totalVolumes</th>\n",
       "    </tr>\n",
       "  </thead>\n",
       "  <tbody>\n",
       "    <tr>\n",
       "      <th>0</th>\n",
       "      <td>T110070</td>\n",
       "      <td>0</td>\n",
       "      <td>The travels of the learned Father Montfaucon f...</td>\n",
       "      <td>0084800600</td>\n",
       "      <td>The travels of the learned Father Montfaucon f...</td>\n",
       "      <td>London</td>\n",
       "      <td>London : printed by D. L. for E. Curll at the ...</td>\n",
       "      <td>printed by D. L. for E. Curll at the Dial and ...</td>\n",
       "      <td>English</td>\n",
       "      <td>Italy, Description and travel, Early works to ...</td>\n",
       "      <td>History and Geography</td>\n",
       "      <td>With an index.  In this issue the imprint date...</td>\n",
       "      <td>17120101</td>\n",
       "      <td>London</td>\n",
       "      <td>0</td>\n",
       "    </tr>\n",
       "  </tbody>\n",
       "</table>\n",
       "</div>"
      ],
      "text/plain": [
       "    ESTCID currentVolume                                       displayTitle  \\\n",
       "0  T110070             0  The travels of the learned Father Montfaucon f...   \n",
       "\n",
       "   documentID                                          fullTitle imprintCity  \\\n",
       "0  0084800600  The travels of the learned Father Montfaucon f...      London   \n",
       "\n",
       "                                         imprintFull  \\\n",
       "0  London : printed by D. L. for E. Curll at the ...   \n",
       "\n",
       "                                    imprintPublisher language  \\\n",
       "0  printed by D. L. for E. Curll at the Dial and ...  English   \n",
       "\n",
       "                                          locSubject                 module  \\\n",
       "0  Italy, Description and travel, Early works to ...  History and Geography   \n",
       "\n",
       "                                               notes   pubDate  \\\n",
       "0  With an index.  In this issue the imprint date...  17120101   \n",
       "\n",
       "  publicationPlace totalVolumes  \n",
       "0           London            0  "
      ]
     },
     "execution_count": 20,
     "metadata": {},
     "output_type": "execute_result"
    }
   ],
   "source": [
    "dictsdf"
   ]
  },
  {
   "cell_type": "code",
   "execution_count": null,
   "metadata": {
    "collapsed": true
   },
   "outputs": [],
   "source": []
  }
 ],
 "metadata": {
  "kernelspec": {
   "display_name": "Python 3",
   "language": "python",
   "name": "python3"
  },
  "language_info": {
   "codemirror_mode": {
    "name": "ipython",
    "version": 3
   },
   "file_extension": ".py",
   "mimetype": "text/x-python",
   "name": "python",
   "nbconvert_exporter": "python",
   "pygments_lexer": "ipython3",
   "version": "3.6.2"
  }
 },
 "nbformat": 4,
 "nbformat_minor": 2
}
